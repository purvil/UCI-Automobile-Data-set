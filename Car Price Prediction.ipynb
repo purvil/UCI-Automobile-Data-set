{
 "cells": [
  {
   "cell_type": "code",
   "execution_count": 75,
   "metadata": {},
   "outputs": [],
   "source": [
    "import numpy as np\n",
    "import pandas as pd\n",
    "import matplotlib.pyplot as plt\n",
    "import seaborn as sns\n",
    "pd.options.display.max_columns = 99"
   ]
  },
  {
   "cell_type": "code",
   "execution_count": 126,
   "metadata": {},
   "outputs": [],
   "source": [
    "auto = pd.read_csv(\"data/imports-85.data\", header = None)"
   ]
  },
  {
   "cell_type": "code",
   "execution_count": 127,
   "metadata": {},
   "outputs": [],
   "source": [
    "cols = ['symboling', 'normalized-losses', 'make', 'fuel-type', 'aspiration', 'num-of-doors', 'body-style', 'drive-wheels', \n",
    "        'engine-location', 'wheel-base', 'length', 'width', 'height', 'curb-weight', 'engine-type', 'num-of-cylinders', \n",
    "        'engine-size', 'fuel-system', 'bore', 'stroke', 'compression-rate', 'horsepower', 'peak-rpm', 'city-mpg', \n",
    "        'highway-mpg', 'price']"
   ]
  },
  {
   "cell_type": "code",
   "execution_count": 128,
   "metadata": {},
   "outputs": [],
   "source": [
    "auto.columns = cols"
   ]
  },
  {
   "cell_type": "code",
   "execution_count": 129,
   "metadata": {},
   "outputs": [
    {
     "data": {
      "text/html": [
       "<div>\n",
       "<style scoped>\n",
       "    .dataframe tbody tr th:only-of-type {\n",
       "        vertical-align: middle;\n",
       "    }\n",
       "\n",
       "    .dataframe tbody tr th {\n",
       "        vertical-align: top;\n",
       "    }\n",
       "\n",
       "    .dataframe thead th {\n",
       "        text-align: right;\n",
       "    }\n",
       "</style>\n",
       "<table border=\"1\" class=\"dataframe\">\n",
       "  <thead>\n",
       "    <tr style=\"text-align: right;\">\n",
       "      <th></th>\n",
       "      <th>symboling</th>\n",
       "      <th>normalized-losses</th>\n",
       "      <th>make</th>\n",
       "      <th>fuel-type</th>\n",
       "      <th>aspiration</th>\n",
       "      <th>num-of-doors</th>\n",
       "      <th>body-style</th>\n",
       "      <th>drive-wheels</th>\n",
       "      <th>engine-location</th>\n",
       "      <th>wheel-base</th>\n",
       "      <th>length</th>\n",
       "      <th>width</th>\n",
       "      <th>height</th>\n",
       "      <th>curb-weight</th>\n",
       "      <th>engine-type</th>\n",
       "      <th>num-of-cylinders</th>\n",
       "      <th>engine-size</th>\n",
       "      <th>fuel-system</th>\n",
       "      <th>bore</th>\n",
       "      <th>stroke</th>\n",
       "      <th>compression-rate</th>\n",
       "      <th>horsepower</th>\n",
       "      <th>peak-rpm</th>\n",
       "      <th>city-mpg</th>\n",
       "      <th>highway-mpg</th>\n",
       "      <th>price</th>\n",
       "    </tr>\n",
       "  </thead>\n",
       "  <tbody>\n",
       "    <tr>\n",
       "      <th>0</th>\n",
       "      <td>3</td>\n",
       "      <td>?</td>\n",
       "      <td>alfa-romero</td>\n",
       "      <td>gas</td>\n",
       "      <td>std</td>\n",
       "      <td>two</td>\n",
       "      <td>convertible</td>\n",
       "      <td>rwd</td>\n",
       "      <td>front</td>\n",
       "      <td>88.6</td>\n",
       "      <td>168.8</td>\n",
       "      <td>64.1</td>\n",
       "      <td>48.8</td>\n",
       "      <td>2548</td>\n",
       "      <td>dohc</td>\n",
       "      <td>four</td>\n",
       "      <td>130</td>\n",
       "      <td>mpfi</td>\n",
       "      <td>3.47</td>\n",
       "      <td>2.68</td>\n",
       "      <td>9.0</td>\n",
       "      <td>111</td>\n",
       "      <td>5000</td>\n",
       "      <td>21</td>\n",
       "      <td>27</td>\n",
       "      <td>13495</td>\n",
       "    </tr>\n",
       "    <tr>\n",
       "      <th>1</th>\n",
       "      <td>3</td>\n",
       "      <td>?</td>\n",
       "      <td>alfa-romero</td>\n",
       "      <td>gas</td>\n",
       "      <td>std</td>\n",
       "      <td>two</td>\n",
       "      <td>convertible</td>\n",
       "      <td>rwd</td>\n",
       "      <td>front</td>\n",
       "      <td>88.6</td>\n",
       "      <td>168.8</td>\n",
       "      <td>64.1</td>\n",
       "      <td>48.8</td>\n",
       "      <td>2548</td>\n",
       "      <td>dohc</td>\n",
       "      <td>four</td>\n",
       "      <td>130</td>\n",
       "      <td>mpfi</td>\n",
       "      <td>3.47</td>\n",
       "      <td>2.68</td>\n",
       "      <td>9.0</td>\n",
       "      <td>111</td>\n",
       "      <td>5000</td>\n",
       "      <td>21</td>\n",
       "      <td>27</td>\n",
       "      <td>16500</td>\n",
       "    </tr>\n",
       "    <tr>\n",
       "      <th>2</th>\n",
       "      <td>1</td>\n",
       "      <td>?</td>\n",
       "      <td>alfa-romero</td>\n",
       "      <td>gas</td>\n",
       "      <td>std</td>\n",
       "      <td>two</td>\n",
       "      <td>hatchback</td>\n",
       "      <td>rwd</td>\n",
       "      <td>front</td>\n",
       "      <td>94.5</td>\n",
       "      <td>171.2</td>\n",
       "      <td>65.5</td>\n",
       "      <td>52.4</td>\n",
       "      <td>2823</td>\n",
       "      <td>ohcv</td>\n",
       "      <td>six</td>\n",
       "      <td>152</td>\n",
       "      <td>mpfi</td>\n",
       "      <td>2.68</td>\n",
       "      <td>3.47</td>\n",
       "      <td>9.0</td>\n",
       "      <td>154</td>\n",
       "      <td>5000</td>\n",
       "      <td>19</td>\n",
       "      <td>26</td>\n",
       "      <td>16500</td>\n",
       "    </tr>\n",
       "    <tr>\n",
       "      <th>3</th>\n",
       "      <td>2</td>\n",
       "      <td>164</td>\n",
       "      <td>audi</td>\n",
       "      <td>gas</td>\n",
       "      <td>std</td>\n",
       "      <td>four</td>\n",
       "      <td>sedan</td>\n",
       "      <td>fwd</td>\n",
       "      <td>front</td>\n",
       "      <td>99.8</td>\n",
       "      <td>176.6</td>\n",
       "      <td>66.2</td>\n",
       "      <td>54.3</td>\n",
       "      <td>2337</td>\n",
       "      <td>ohc</td>\n",
       "      <td>four</td>\n",
       "      <td>109</td>\n",
       "      <td>mpfi</td>\n",
       "      <td>3.19</td>\n",
       "      <td>3.40</td>\n",
       "      <td>10.0</td>\n",
       "      <td>102</td>\n",
       "      <td>5500</td>\n",
       "      <td>24</td>\n",
       "      <td>30</td>\n",
       "      <td>13950</td>\n",
       "    </tr>\n",
       "    <tr>\n",
       "      <th>4</th>\n",
       "      <td>2</td>\n",
       "      <td>164</td>\n",
       "      <td>audi</td>\n",
       "      <td>gas</td>\n",
       "      <td>std</td>\n",
       "      <td>four</td>\n",
       "      <td>sedan</td>\n",
       "      <td>4wd</td>\n",
       "      <td>front</td>\n",
       "      <td>99.4</td>\n",
       "      <td>176.6</td>\n",
       "      <td>66.4</td>\n",
       "      <td>54.3</td>\n",
       "      <td>2824</td>\n",
       "      <td>ohc</td>\n",
       "      <td>five</td>\n",
       "      <td>136</td>\n",
       "      <td>mpfi</td>\n",
       "      <td>3.19</td>\n",
       "      <td>3.40</td>\n",
       "      <td>8.0</td>\n",
       "      <td>115</td>\n",
       "      <td>5500</td>\n",
       "      <td>18</td>\n",
       "      <td>22</td>\n",
       "      <td>17450</td>\n",
       "    </tr>\n",
       "  </tbody>\n",
       "</table>\n",
       "</div>"
      ],
      "text/plain": [
       "   symboling normalized-losses         make fuel-type aspiration num-of-doors  \\\n",
       "0          3                 ?  alfa-romero       gas        std          two   \n",
       "1          3                 ?  alfa-romero       gas        std          two   \n",
       "2          1                 ?  alfa-romero       gas        std          two   \n",
       "3          2               164         audi       gas        std         four   \n",
       "4          2               164         audi       gas        std         four   \n",
       "\n",
       "    body-style drive-wheels engine-location  wheel-base  length  width  \\\n",
       "0  convertible          rwd           front        88.6   168.8   64.1   \n",
       "1  convertible          rwd           front        88.6   168.8   64.1   \n",
       "2    hatchback          rwd           front        94.5   171.2   65.5   \n",
       "3        sedan          fwd           front        99.8   176.6   66.2   \n",
       "4        sedan          4wd           front        99.4   176.6   66.4   \n",
       "\n",
       "   height  curb-weight engine-type num-of-cylinders  engine-size fuel-system  \\\n",
       "0    48.8         2548        dohc             four          130        mpfi   \n",
       "1    48.8         2548        dohc             four          130        mpfi   \n",
       "2    52.4         2823        ohcv              six          152        mpfi   \n",
       "3    54.3         2337         ohc             four          109        mpfi   \n",
       "4    54.3         2824         ohc             five          136        mpfi   \n",
       "\n",
       "   bore stroke  compression-rate horsepower peak-rpm  city-mpg  highway-mpg  \\\n",
       "0  3.47   2.68               9.0        111     5000        21           27   \n",
       "1  3.47   2.68               9.0        111     5000        21           27   \n",
       "2  2.68   3.47               9.0        154     5000        19           26   \n",
       "3  3.19   3.40              10.0        102     5500        24           30   \n",
       "4  3.19   3.40               8.0        115     5500        18           22   \n",
       "\n",
       "   price  \n",
       "0  13495  \n",
       "1  16500  \n",
       "2  16500  \n",
       "3  13950  \n",
       "4  17450  "
      ]
     },
     "execution_count": 129,
     "metadata": {},
     "output_type": "execute_result"
    }
   ],
   "source": [
    "auto.head()"
   ]
  },
  {
   "cell_type": "markdown",
   "metadata": {},
   "source": [
    "### Handle missing values"
   ]
  },
  {
   "cell_type": "code",
   "execution_count": 130,
   "metadata": {},
   "outputs": [],
   "source": [
    "numeric_col = ['normalized-losses', 'wheel-base', 'length', 'width', 'height', 'curb-weight', 'engine-size', 'bore', 'stroke', 'compression-rate',\n",
    "               'horsepower', 'peak-rpm', 'city-mpg', 'highway-mpg', 'price']"
   ]
  },
  {
   "cell_type": "code",
   "execution_count": 131,
   "metadata": {},
   "outputs": [
    {
     "name": "stdout",
     "output_type": "stream",
     "text": [
      "<class 'pandas.core.frame.DataFrame'>\n",
      "RangeIndex: 205 entries, 0 to 204\n",
      "Data columns (total 26 columns):\n",
      "symboling            205 non-null int64\n",
      "normalized-losses    205 non-null object\n",
      "make                 205 non-null object\n",
      "fuel-type            205 non-null object\n",
      "aspiration           205 non-null object\n",
      "num-of-doors         205 non-null object\n",
      "body-style           205 non-null object\n",
      "drive-wheels         205 non-null object\n",
      "engine-location      205 non-null object\n",
      "wheel-base           205 non-null float64\n",
      "length               205 non-null float64\n",
      "width                205 non-null float64\n",
      "height               205 non-null float64\n",
      "curb-weight          205 non-null int64\n",
      "engine-type          205 non-null object\n",
      "num-of-cylinders     205 non-null object\n",
      "engine-size          205 non-null int64\n",
      "fuel-system          205 non-null object\n",
      "bore                 205 non-null object\n",
      "stroke               205 non-null object\n",
      "compression-rate     205 non-null float64\n",
      "horsepower           205 non-null object\n",
      "peak-rpm             205 non-null object\n",
      "city-mpg             205 non-null int64\n",
      "highway-mpg          205 non-null int64\n",
      "price                205 non-null object\n",
      "dtypes: float64(5), int64(5), object(16)\n",
      "memory usage: 41.7+ KB\n"
     ]
    }
   ],
   "source": [
    "auto.info()"
   ]
  },
  {
   "cell_type": "markdown",
   "metadata": {},
   "source": [
    "* Primary exploration shows that there are no null values. But, in column `normalized-losses` null values are marked as `?`"
   ]
  },
  {
   "cell_type": "code",
   "execution_count": 132,
   "metadata": {},
   "outputs": [
    {
     "data": {
      "text/plain": [
       "symboling             0\n",
       "normalized-losses    41\n",
       "make                  0\n",
       "fuel-type             0\n",
       "aspiration            0\n",
       "num-of-doors          2\n",
       "body-style            0\n",
       "drive-wheels          0\n",
       "engine-location       0\n",
       "wheel-base            0\n",
       "length                0\n",
       "width                 0\n",
       "height                0\n",
       "curb-weight           0\n",
       "engine-type           0\n",
       "num-of-cylinders      0\n",
       "engine-size           0\n",
       "fuel-system           0\n",
       "bore                  4\n",
       "stroke                4\n",
       "compression-rate      0\n",
       "horsepower            2\n",
       "peak-rpm              2\n",
       "city-mpg              0\n",
       "highway-mpg           0\n",
       "price                 4\n",
       "dtype: int64"
      ]
     },
     "execution_count": 132,
     "metadata": {},
     "output_type": "execute_result"
    }
   ],
   "source": [
    "(auto == '?').sum(axis=0)"
   ]
  },
  {
   "cell_type": "code",
   "execution_count": 133,
   "metadata": {},
   "outputs": [],
   "source": [
    "auto[numeric_col] = auto[numeric_col].replace('?', np.nan)\n",
    "auto[numeric_col] = auto[numeric_col].astype('float')"
   ]
  },
  {
   "cell_type": "code",
   "execution_count": 134,
   "metadata": {},
   "outputs": [
    {
     "data": {
      "text/plain": [
       "symboling            0\n",
       "normalized-losses    0\n",
       "make                 0\n",
       "fuel-type            0\n",
       "aspiration           0\n",
       "num-of-doors         2\n",
       "body-style           0\n",
       "drive-wheels         0\n",
       "engine-location      0\n",
       "wheel-base           0\n",
       "length               0\n",
       "width                0\n",
       "height               0\n",
       "curb-weight          0\n",
       "engine-type          0\n",
       "num-of-cylinders     0\n",
       "engine-size          0\n",
       "fuel-system          0\n",
       "bore                 0\n",
       "stroke               0\n",
       "compression-rate     0\n",
       "horsepower           0\n",
       "peak-rpm             0\n",
       "city-mpg             0\n",
       "highway-mpg          0\n",
       "price                0\n",
       "dtype: int64"
      ]
     },
     "execution_count": 134,
     "metadata": {},
     "output_type": "execute_result"
    }
   ],
   "source": [
    "(auto == '?').sum(axis=0)"
   ]
  },
  {
   "cell_type": "code",
   "execution_count": 135,
   "metadata": {},
   "outputs": [
    {
     "data": {
      "text/plain": [
       "symboling             0\n",
       "normalized-losses    41\n",
       "make                  0\n",
       "fuel-type             0\n",
       "aspiration            0\n",
       "num-of-doors          0\n",
       "body-style            0\n",
       "drive-wheels          0\n",
       "engine-location       0\n",
       "wheel-base            0\n",
       "length                0\n",
       "width                 0\n",
       "height                0\n",
       "curb-weight           0\n",
       "engine-type           0\n",
       "num-of-cylinders      0\n",
       "engine-size           0\n",
       "fuel-system           0\n",
       "bore                  4\n",
       "stroke                4\n",
       "compression-rate      0\n",
       "horsepower            2\n",
       "peak-rpm              2\n",
       "city-mpg              0\n",
       "highway-mpg           0\n",
       "price                 4\n",
       "dtype: int64"
      ]
     },
     "execution_count": 135,
     "metadata": {},
     "output_type": "execute_result"
    }
   ],
   "source": [
    "auto.isnull().sum()"
   ]
  },
  {
   "cell_type": "markdown",
   "metadata": {},
   "source": [
    "* Our target is `price`, we will drop record which does not have price values"
   ]
  },
  {
   "cell_type": "code",
   "execution_count": 136,
   "metadata": {},
   "outputs": [],
   "source": [
    "auto.dropna(subset=['price'], axis = 0, inplace=True)"
   ]
  },
  {
   "cell_type": "code",
   "execution_count": 137,
   "metadata": {},
   "outputs": [
    {
     "data": {
      "text/plain": [
       "(201, 26)"
      ]
     },
     "execution_count": 137,
     "metadata": {},
     "output_type": "execute_result"
    }
   ],
   "source": [
    "auto.shape"
   ]
  },
  {
   "cell_type": "code",
   "execution_count": 138,
   "metadata": {},
   "outputs": [],
   "source": [
    "y = auto['price'].copy()"
   ]
  },
  {
   "cell_type": "code",
   "execution_count": 139,
   "metadata": {},
   "outputs": [],
   "source": [
    "X = auto.drop('price', axis=1).copy()"
   ]
  },
  {
   "cell_type": "code",
   "execution_count": 144,
   "metadata": {},
   "outputs": [],
   "source": [
    "numeric_col.remove('price')"
   ]
  },
  {
   "cell_type": "code",
   "execution_count": 145,
   "metadata": {},
   "outputs": [],
   "source": [
    "from sklearn.impute import SimpleImputer"
   ]
  },
  {
   "cell_type": "code",
   "execution_count": 146,
   "metadata": {},
   "outputs": [],
   "source": [
    "imputer = SimpleImputer(missing_values=np.nan, strategy='mean')"
   ]
  },
  {
   "cell_type": "code",
   "execution_count": 147,
   "metadata": {},
   "outputs": [],
   "source": [
    "X[numeric_col] = imputer.fit_transform(X[numeric_col])"
   ]
  },
  {
   "cell_type": "code",
   "execution_count": 148,
   "metadata": {},
   "outputs": [
    {
     "data": {
      "text/plain": [
       "symboling            0\n",
       "normalized-losses    0\n",
       "make                 0\n",
       "fuel-type            0\n",
       "aspiration           0\n",
       "num-of-doors         0\n",
       "body-style           0\n",
       "drive-wheels         0\n",
       "engine-location      0\n",
       "wheel-base           0\n",
       "length               0\n",
       "width                0\n",
       "height               0\n",
       "curb-weight          0\n",
       "engine-type          0\n",
       "num-of-cylinders     0\n",
       "engine-size          0\n",
       "fuel-system          0\n",
       "bore                 0\n",
       "stroke               0\n",
       "compression-rate     0\n",
       "horsepower           0\n",
       "peak-rpm             0\n",
       "city-mpg             0\n",
       "highway-mpg          0\n",
       "dtype: int64"
      ]
     },
     "execution_count": 148,
     "metadata": {},
     "output_type": "execute_result"
    }
   ],
   "source": [
    "X.isna().sum()"
   ]
  },
  {
   "cell_type": "markdown",
   "metadata": {},
   "source": [
    "### Normalize data"
   ]
  },
  {
   "cell_type": "code",
   "execution_count": 149,
   "metadata": {},
   "outputs": [],
   "source": [
    "from sklearn.preprocessing import MinMaxScaler"
   ]
  },
  {
   "cell_type": "code",
   "execution_count": 150,
   "metadata": {},
   "outputs": [],
   "source": [
    "scaler = MinMaxScaler()"
   ]
  },
  {
   "cell_type": "code",
   "execution_count": 151,
   "metadata": {},
   "outputs": [],
   "source": [
    "X[numeric_col] = scaler.fit_transform(X[numeric_col])"
   ]
  },
  {
   "cell_type": "code",
   "execution_count": 152,
   "metadata": {},
   "outputs": [
    {
     "data": {
      "text/html": [
       "<div>\n",
       "<style scoped>\n",
       "    .dataframe tbody tr th:only-of-type {\n",
       "        vertical-align: middle;\n",
       "    }\n",
       "\n",
       "    .dataframe tbody tr th {\n",
       "        vertical-align: top;\n",
       "    }\n",
       "\n",
       "    .dataframe thead th {\n",
       "        text-align: right;\n",
       "    }\n",
       "</style>\n",
       "<table border=\"1\" class=\"dataframe\">\n",
       "  <thead>\n",
       "    <tr style=\"text-align: right;\">\n",
       "      <th></th>\n",
       "      <th>symboling</th>\n",
       "      <th>normalized-losses</th>\n",
       "      <th>make</th>\n",
       "      <th>fuel-type</th>\n",
       "      <th>aspiration</th>\n",
       "      <th>num-of-doors</th>\n",
       "      <th>body-style</th>\n",
       "      <th>drive-wheels</th>\n",
       "      <th>engine-location</th>\n",
       "      <th>wheel-base</th>\n",
       "      <th>length</th>\n",
       "      <th>width</th>\n",
       "      <th>height</th>\n",
       "      <th>curb-weight</th>\n",
       "      <th>engine-type</th>\n",
       "      <th>num-of-cylinders</th>\n",
       "      <th>engine-size</th>\n",
       "      <th>fuel-system</th>\n",
       "      <th>bore</th>\n",
       "      <th>stroke</th>\n",
       "      <th>compression-rate</th>\n",
       "      <th>horsepower</th>\n",
       "      <th>peak-rpm</th>\n",
       "      <th>city-mpg</th>\n",
       "      <th>highway-mpg</th>\n",
       "    </tr>\n",
       "  </thead>\n",
       "  <tbody>\n",
       "    <tr>\n",
       "      <th>0</th>\n",
       "      <td>3</td>\n",
       "      <td>0.298429</td>\n",
       "      <td>alfa-romero</td>\n",
       "      <td>gas</td>\n",
       "      <td>std</td>\n",
       "      <td>two</td>\n",
       "      <td>convertible</td>\n",
       "      <td>rwd</td>\n",
       "      <td>front</td>\n",
       "      <td>0.058309</td>\n",
       "      <td>0.413433</td>\n",
       "      <td>0.324786</td>\n",
       "      <td>0.083333</td>\n",
       "      <td>0.411171</td>\n",
       "      <td>dohc</td>\n",
       "      <td>four</td>\n",
       "      <td>0.260377</td>\n",
       "      <td>mpfi</td>\n",
       "      <td>0.664286</td>\n",
       "      <td>0.290476</td>\n",
       "      <td>0.1250</td>\n",
       "      <td>0.294393</td>\n",
       "      <td>0.346939</td>\n",
       "      <td>0.222222</td>\n",
       "      <td>0.289474</td>\n",
       "    </tr>\n",
       "    <tr>\n",
       "      <th>1</th>\n",
       "      <td>3</td>\n",
       "      <td>0.298429</td>\n",
       "      <td>alfa-romero</td>\n",
       "      <td>gas</td>\n",
       "      <td>std</td>\n",
       "      <td>two</td>\n",
       "      <td>convertible</td>\n",
       "      <td>rwd</td>\n",
       "      <td>front</td>\n",
       "      <td>0.058309</td>\n",
       "      <td>0.413433</td>\n",
       "      <td>0.324786</td>\n",
       "      <td>0.083333</td>\n",
       "      <td>0.411171</td>\n",
       "      <td>dohc</td>\n",
       "      <td>four</td>\n",
       "      <td>0.260377</td>\n",
       "      <td>mpfi</td>\n",
       "      <td>0.664286</td>\n",
       "      <td>0.290476</td>\n",
       "      <td>0.1250</td>\n",
       "      <td>0.294393</td>\n",
       "      <td>0.346939</td>\n",
       "      <td>0.222222</td>\n",
       "      <td>0.289474</td>\n",
       "    </tr>\n",
       "    <tr>\n",
       "      <th>2</th>\n",
       "      <td>1</td>\n",
       "      <td>0.298429</td>\n",
       "      <td>alfa-romero</td>\n",
       "      <td>gas</td>\n",
       "      <td>std</td>\n",
       "      <td>two</td>\n",
       "      <td>hatchback</td>\n",
       "      <td>rwd</td>\n",
       "      <td>front</td>\n",
       "      <td>0.230321</td>\n",
       "      <td>0.449254</td>\n",
       "      <td>0.444444</td>\n",
       "      <td>0.383333</td>\n",
       "      <td>0.517843</td>\n",
       "      <td>ohcv</td>\n",
       "      <td>six</td>\n",
       "      <td>0.343396</td>\n",
       "      <td>mpfi</td>\n",
       "      <td>0.100000</td>\n",
       "      <td>0.666667</td>\n",
       "      <td>0.1250</td>\n",
       "      <td>0.495327</td>\n",
       "      <td>0.346939</td>\n",
       "      <td>0.166667</td>\n",
       "      <td>0.263158</td>\n",
       "    </tr>\n",
       "    <tr>\n",
       "      <th>3</th>\n",
       "      <td>2</td>\n",
       "      <td>0.518325</td>\n",
       "      <td>audi</td>\n",
       "      <td>gas</td>\n",
       "      <td>std</td>\n",
       "      <td>four</td>\n",
       "      <td>sedan</td>\n",
       "      <td>fwd</td>\n",
       "      <td>front</td>\n",
       "      <td>0.384840</td>\n",
       "      <td>0.529851</td>\n",
       "      <td>0.504274</td>\n",
       "      <td>0.541667</td>\n",
       "      <td>0.329325</td>\n",
       "      <td>ohc</td>\n",
       "      <td>four</td>\n",
       "      <td>0.181132</td>\n",
       "      <td>mpfi</td>\n",
       "      <td>0.464286</td>\n",
       "      <td>0.633333</td>\n",
       "      <td>0.1875</td>\n",
       "      <td>0.252336</td>\n",
       "      <td>0.551020</td>\n",
       "      <td>0.305556</td>\n",
       "      <td>0.368421</td>\n",
       "    </tr>\n",
       "    <tr>\n",
       "      <th>4</th>\n",
       "      <td>2</td>\n",
       "      <td>0.518325</td>\n",
       "      <td>audi</td>\n",
       "      <td>gas</td>\n",
       "      <td>std</td>\n",
       "      <td>four</td>\n",
       "      <td>sedan</td>\n",
       "      <td>4wd</td>\n",
       "      <td>front</td>\n",
       "      <td>0.373178</td>\n",
       "      <td>0.529851</td>\n",
       "      <td>0.521368</td>\n",
       "      <td>0.541667</td>\n",
       "      <td>0.518231</td>\n",
       "      <td>ohc</td>\n",
       "      <td>five</td>\n",
       "      <td>0.283019</td>\n",
       "      <td>mpfi</td>\n",
       "      <td>0.464286</td>\n",
       "      <td>0.633333</td>\n",
       "      <td>0.0625</td>\n",
       "      <td>0.313084</td>\n",
       "      <td>0.551020</td>\n",
       "      <td>0.138889</td>\n",
       "      <td>0.157895</td>\n",
       "    </tr>\n",
       "  </tbody>\n",
       "</table>\n",
       "</div>"
      ],
      "text/plain": [
       "   symboling  normalized-losses         make fuel-type aspiration  \\\n",
       "0          3           0.298429  alfa-romero       gas        std   \n",
       "1          3           0.298429  alfa-romero       gas        std   \n",
       "2          1           0.298429  alfa-romero       gas        std   \n",
       "3          2           0.518325         audi       gas        std   \n",
       "4          2           0.518325         audi       gas        std   \n",
       "\n",
       "  num-of-doors   body-style drive-wheels engine-location  wheel-base  \\\n",
       "0          two  convertible          rwd           front    0.058309   \n",
       "1          two  convertible          rwd           front    0.058309   \n",
       "2          two    hatchback          rwd           front    0.230321   \n",
       "3         four        sedan          fwd           front    0.384840   \n",
       "4         four        sedan          4wd           front    0.373178   \n",
       "\n",
       "     length     width    height  curb-weight engine-type num-of-cylinders  \\\n",
       "0  0.413433  0.324786  0.083333     0.411171        dohc             four   \n",
       "1  0.413433  0.324786  0.083333     0.411171        dohc             four   \n",
       "2  0.449254  0.444444  0.383333     0.517843        ohcv              six   \n",
       "3  0.529851  0.504274  0.541667     0.329325         ohc             four   \n",
       "4  0.529851  0.521368  0.541667     0.518231         ohc             five   \n",
       "\n",
       "   engine-size fuel-system      bore    stroke  compression-rate  horsepower  \\\n",
       "0     0.260377        mpfi  0.664286  0.290476            0.1250    0.294393   \n",
       "1     0.260377        mpfi  0.664286  0.290476            0.1250    0.294393   \n",
       "2     0.343396        mpfi  0.100000  0.666667            0.1250    0.495327   \n",
       "3     0.181132        mpfi  0.464286  0.633333            0.1875    0.252336   \n",
       "4     0.283019        mpfi  0.464286  0.633333            0.0625    0.313084   \n",
       "\n",
       "   peak-rpm  city-mpg  highway-mpg  \n",
       "0  0.346939  0.222222     0.289474  \n",
       "1  0.346939  0.222222     0.289474  \n",
       "2  0.346939  0.166667     0.263158  \n",
       "3  0.551020  0.305556     0.368421  \n",
       "4  0.551020  0.138889     0.157895  "
      ]
     },
     "execution_count": 152,
     "metadata": {},
     "output_type": "execute_result"
    }
   ],
   "source": [
    "X.head()"
   ]
  },
  {
   "cell_type": "markdown",
   "metadata": {},
   "source": [
    "### Univariate model"
   ]
  },
  {
   "cell_type": "code",
   "execution_count": 153,
   "metadata": {},
   "outputs": [],
   "source": [
    "from sklearn.neighbors import KNeighborsRegressor"
   ]
  },
  {
   "cell_type": "code",
   "execution_count": 172,
   "metadata": {},
   "outputs": [],
   "source": [
    "from sklearn.metrics import mean_squared_error\n",
    "from sklearn.model_selection import train_test_split\n",
    "\n",
    "def knn_train_test(X, y, feature_col, k):\n",
    "    X_train, X_test, y_train, y_test = train_test_split(X[[feature_col]], y, test_size = 0.2)\n",
    "    knn = KNeighborsRegressor(n_neighbors=k)\n",
    "    knn.fit(X_train, y_train)\n",
    "    prediction = knn.predict(X_test[[feature_col]])\n",
    "    return np.sqrt(mean_squared_error(y_test, prediction))"
   ]
  },
  {
   "cell_type": "code",
   "execution_count": 173,
   "metadata": {},
   "outputs": [],
   "source": [
    "k_rmse_result = {}"
   ]
  },
  {
   "cell_type": "code",
   "execution_count": 174,
   "metadata": {},
   "outputs": [],
   "source": [
    "for col in numeric_col:\n",
    "    temp = {}\n",
    "    for k in [1,3,5,7,9]:\n",
    "        temp[k] = knn_train_test(X, y, col, k)\n",
    "    k_rmse_result[col] = temp"
   ]
  },
  {
   "cell_type": "code",
   "execution_count": 175,
   "metadata": {},
   "outputs": [
    {
     "data": {
      "text/plain": [
       "{'normalized-losses': {1: 7337.941217880747,\n",
       "  3: 7388.530493885682,\n",
       "  5: 5841.672333727231,\n",
       "  7: 6956.809000281753,\n",
       "  9: 7119.752988036836},\n",
       " 'wheel-base': {1: 3265.1556157589107,\n",
       "  3: 4325.004394314543,\n",
       "  5: 4091.149040693914,\n",
       "  7: 5401.980481632848,\n",
       "  9: 6621.684828757267},\n",
       " 'length': {1: 4971.22139872305,\n",
       "  3: 5364.800324871864,\n",
       "  5: 4396.05822227806,\n",
       "  7: 4653.850961090589,\n",
       "  9: 5104.778932501773},\n",
       " 'width': {1: 3387.581888129125,\n",
       "  3: 4025.843889046145,\n",
       "  5: 3516.3321737426286,\n",
       "  7: 4860.184063378194,\n",
       "  9: 5457.317069587642},\n",
       " 'height': {1: 7232.498925497126,\n",
       "  3: 10180.617770001081,\n",
       "  5: 4998.612938044937,\n",
       "  7: 6799.445623977706,\n",
       "  9: 8461.983489823979},\n",
       " 'curb-weight': {1: 4894.145459678105,\n",
       "  3: 4045.6892408592553,\n",
       "  5: 3136.482898049358,\n",
       "  7: 5944.568488685698,\n",
       "  9: 5544.565481894606},\n",
       " 'engine-size': {1: 3359.180068365987,\n",
       "  3: 3851.7356398154316,\n",
       "  5: 1985.4302031819996,\n",
       "  7: 3496.9450964329426,\n",
       "  9: 3865.4804483215953},\n",
       " 'bore': {1: 8669.432012227453,\n",
       "  3: 6283.186940780238,\n",
       "  5: 6538.308087257929,\n",
       "  7: 5832.299457433124,\n",
       "  9: 7826.67569698806},\n",
       " 'stroke': {1: 11410.772774754265,\n",
       "  3: 4880.495574097009,\n",
       "  5: 5547.38056858216,\n",
       "  7: 8280.551000181105,\n",
       "  9: 4643.972163297049},\n",
       " 'compression-rate': {1: 9245.179078585874,\n",
       "  3: 5567.275728814804,\n",
       "  5: 5186.291769843962,\n",
       "  7: 6264.516426408717,\n",
       "  9: 6851.728137992982},\n",
       " 'horsepower': {1: 3013.9065039636093,\n",
       "  3: 3549.843668835394,\n",
       "  5: 4656.959055843725,\n",
       "  7: 3583.956237886022,\n",
       "  9: 2678.519793796063},\n",
       " 'peak-rpm': {1: 10529.358393118344,\n",
       "  3: 6622.384297047233,\n",
       "  5: 6327.400069307549,\n",
       "  7: 6639.7076189997915,\n",
       "  9: 7232.164813115854},\n",
       " 'city-mpg': {1: 2345.8584418647883,\n",
       "  3: 4761.088161300397,\n",
       "  5: 3634.75097519862,\n",
       "  7: 4397.145316486102,\n",
       "  9: 5313.047276237081},\n",
       " 'highway-mpg': {1: 4543.178225674611,\n",
       "  3: 3086.917057308017,\n",
       "  5: 3942.792047490724,\n",
       "  7: 4581.006153325314,\n",
       "  9: 3979.434872736769}}"
      ]
     },
     "execution_count": 175,
     "metadata": {},
     "output_type": "execute_result"
    }
   ],
   "source": [
    "k_rmse_result"
   ]
  },
  {
   "cell_type": "code",
   "execution_count": 182,
   "metadata": {},
   "outputs": [
    {
     "data": {
      "text/plain": [
       "Text(0, 0.5, 'RMSE')"
      ]
     },
     "execution_count": 182,
     "metadata": {},
     "output_type": "execute_result"
    },
    {
     "data": {
      "image/png": "[encoded data removed]",
      "text/plain": [
       "<Figure size 1440x720 with 1 Axes>"
      ]
     },
     "metadata": {
      "needs_background": "light"
     },
     "output_type": "display_data"
    }
   ],
   "source": [
    "fig = plt.figure(figsize=(20,10))\n",
    "for k, v in k_rmse_result.items():\n",
    "    x = list(v.keys())\n",
    "    y = list(v.values())\n",
    "    plt.plot(x, y, label=k)\n",
    "plt.legend()\n",
    "plt.xlabel('k value')\n",
    "plt.ylabel('RMSE')"
   ]
  },
  {
   "cell_type": "code",
   "execution_count": null,
   "metadata": {},
   "outputs": [],
   "source": []
  }
 ],
 "metadata": {
  "kernelspec": {
   "display_name": "Python 3",
   "language": "python",
   "name": "python3"
  },
  "language_info": {
   "codemirror_mode": {
    "name": "ipython",
    "version": 3
   },
   "file_extension": ".py",
   "mimetype": "text/x-python",
   "name": "python",
   "nbconvert_exporter": "python",
   "pygments_lexer": "ipython3",
   "version": "3.7.1"
  },
  "varInspector": {
   "cols": {
    "lenName": 16,
    "lenType": 16,
    "lenVar": 40
   },
   "kernels_config": {
    "python": {
     "delete_cmd_postfix": "",
     "delete_cmd_prefix": "del ",
     "library": "var_list.py",
     "varRefreshCmd": "print(var_dic_list())"
    },
    "r": {
     "delete_cmd_postfix": ") ",
     "delete_cmd_prefix": "rm(",
     "library": "var_list.r",
     "varRefreshCmd": "cat(var_dic_list()) "
    }
   },
   "types_to_exclude": [
    "module",
    "function",
    "builtin_function_or_method",
    "instance",
    "_Feature"
   ],
   "window_display": false
  }
 },
 "nbformat": 4,
 "nbformat_minor": 2
}
